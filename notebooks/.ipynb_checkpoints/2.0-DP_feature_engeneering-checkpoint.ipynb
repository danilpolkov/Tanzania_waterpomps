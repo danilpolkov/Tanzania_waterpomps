{
 "cells": [
  {
   "cell_type": "code",
   "execution_count": 1,
   "metadata": {},
   "outputs": [
    {
     "name": "stdout",
     "output_type": "stream",
     "text": [
      "/Users/danylopoliakov/Documents/GitHub/Tanzania_waterpomps\n"
     ]
    }
   ],
   "source": [
    "cd ..\n"
   ]
  },
  {
   "cell_type": "code",
   "execution_count": 2,
   "metadata": {},
   "outputs": [
    {
     "name": "stdout",
     "output_type": "stream",
     "text": [
      "/Users/danylopoliakov/Documents/GitHub/Tanzania_waterpomps/data/processed\n"
     ]
    }
   ],
   "source": [
    "cd data/processed/"
   ]
  },
  {
   "cell_type": "code",
   "execution_count": 3,
   "metadata": {},
   "outputs": [],
   "source": [
    "import pandas as pd\n",
    "import matplotlib.pyplot as plt\n",
    "import numpy as np\n",
    "#import seaborn as sns\n",
    "import pygal\n",
    "from IPython.display import display, HTML\n",
    "from pygal.style import Style\n",
    "\n",
    "# for modelling\n",
    "from sklearn.linear_model import LogisticRegression\n",
    "from sklearn.model_selection import train_test_split\n",
    "from sklearn.metrics import accuracy_score, classification_report, confusion_matrix\n",
    "from sklearn.ensemble import RandomForestClassifier\n",
    "from sklearn.preprocessing import RobustScaler\n",
    "from sklearn.model_selection import cross_val_score\n",
    "from sklearn.model_selection import KFold\n"
   ]
  },
  {
   "cell_type": "code",
   "execution_count": null,
   "metadata": {},
   "outputs": [],
   "source": [
    "train = pd.read_csv('train.csv')\n",
    "target = pd.read_csv('target.csv')\n",
    "test = pd.read_csv('test.csv')"
   ]
  },
  {
   "cell_type": "code",
   "execution_count": 3,
   "metadata": {
    "collapsed": true
   },
   "outputs": [],
   "source": [
    "train[['amount_tsh', 'num_private', 'population' ,'construction_year']] = \\\n",
    "    train[['amount_tsh', 'num_private', 'population' ,'construction_year']].replace(0, np.NaN)"
   ]
  },
  {
   "cell_type": "code",
   "execution_count": 4,
   "metadata": {
    "collapsed": true
   },
   "outputs": [],
   "source": [
    "train.drop(['wpt_name', 'recorded_by', 'longitude', 'latitude','scheme_name', 'num_private'], 1, inplace=True)"
   ]
  },
  {
   "cell_type": "code",
   "execution_count": 5,
   "metadata": {
    "collapsed": true
   },
   "outputs": [],
   "source": [
    "train[['region_code', 'district_code']]= train[['region_code', 'district_code']].astype('object')\n",
    "train[['date_recorded', 'construction_year']]= train[['date_recorded', 'construction_year']].apply((pd.to_datetime))\n",
    "\n",
    "categoricals = train.select_dtypes(include = ['object']).columns.tolist()\n",
    "numerical = train.select_dtypes(include = ['int', 'float']).columns.tolist()\n",
    "date_cols = train.select_dtypes(include = ['datetime64']).columns.tolist()"
   ]
  },
  {
   "cell_type": "code",
   "execution_count": 6,
   "metadata": {
    "collapsed": true
   },
   "outputs": [],
   "source": [
    "df = pd.merge(train, target, how = 'inner', on = 'id')"
   ]
  },
  {
   "cell_type": "code",
   "execution_count": 8,
   "metadata": {
    "collapsed": true
   },
   "outputs": [],
   "source": [
    "df.drop('id', 1, inplace=True)"
   ]
  },
  {
   "cell_type": "code",
   "execution_count": 9,
   "metadata": {
    "collapsed": true
   },
   "outputs": [],
   "source": [
    "df['missed_population'] = np.where(np.isnan(df['population']), 1, 0)\n",
    "df['population'].fillna(0, inplace = True)"
   ]
  },
  {
   "cell_type": "code",
   "execution_count": 10,
   "metadata": {
    "collapsed": true
   },
   "outputs": [],
   "source": [
    "df['approximated_amount_tsh'] = np.where(np.isnan(df['amount_tsh']), 1, 0) \n",
    "replacements = df.groupby('water_quality').amount_tsh.agg(pd.Series.mode).to_dict()\n",
    "\n",
    "# all vlaues amount_tsh in this category is Nan\n",
    "replacements.pop('fluoride abandoned')\n",
    "\n",
    "df.loc[df['water_quality'] != 'soft', 'amount_tsh'] = \\\n",
    "    df.loc[df['water_quality'] != 'soft', 'amount_tsh'].fillna(replacements)\n",
    "\n",
    "df['amount_tsh'].fillna(0, inplace=True)"
   ]
  },
  {
   "cell_type": "code",
   "execution_count": 15,
   "metadata": {
    "collapsed": true
   },
   "outputs": [],
   "source": [
    "df['wrong_gps_height'] = np.where(df['gps_height'] < 0, 1, 0) "
   ]
  },
  {
   "cell_type": "code",
   "execution_count": 17,
   "metadata": {
    "collapsed": true
   },
   "outputs": [],
   "source": [
    "df['gps_height'] = abs(df['gps_height'])"
   ]
  },
  {
   "cell_type": "code",
   "execution_count": 20,
   "metadata": {
    "collapsed": true
   },
   "outputs": [],
   "source": [
    "df[categoricals] = df[categoricals].astype('str')\n",
    "df[categoricals] = df[categoricals].applymap(lambda x: x.lower())\n",
    "nan_list = ['not known','unknown','none','-','##','not kno','unknown installer', '0', 'dwe']\n",
    "df = train.replace(nan_list, np.nan)\n",
    "\n",
    "# Any feature values with fewer than 50 rows would be turned into a 'other'\n",
    "for feature in df[categoricals]:\n",
    "    # Determine which feature values to keep\n",
    "    remove = df[feature].value_counts()[df[feature].value_counts() < 50].index.tolist()\n",
    "    #print(remove)\n",
    "    #to_keep = train[feature].value_counts()[train[feature].value_counts() > 50].index.tolist()\n",
    "    \n",
    "    # Turn those into NANs (using a copy, to prevent warnings)\n",
    "    feature_copy = df[feature].copy()\n",
    "    #feature_copy[~feature_copy.isin(to_keep)] = np.nan\n",
    "    feature_copy[feature_copy.isin(remove)] = np.nan\n",
    "    #print(feature_copy.isnull().sum())\n",
    "    df[feature] = feature_copy\n",
    "# Fix all NANs\n",
    "df[categoricals] = df[categoricals].fillna('other')"
   ]
  },
  {
   "cell_type": "code",
   "execution_count": 21,
   "metadata": {
    "collapsed": true
   },
   "outputs": [],
   "source": [
    "# I checked that Tanzania has 31 region, so I will drop column 'region', beckause there is less values\n",
    "df.drop(['region', 'district_code'], 1, inplace=True)\n",
    "\n",
    "# extraction_type has very close values with extraction_type_group and extraction_type_class but extraction_type\n",
    "# has more values so I will \n",
    "# remove extraction_type_group, extraction_type_class\n",
    "\n",
    "df.drop(['extraction_type_group', 'extraction_type_class'], 1, inplace=True)"
   ]
  },
  {
   "cell_type": "code",
   "execution_count": 17,
   "metadata": {
    "collapsed": true
   },
   "outputs": [],
   "source": [
    "# majority of 'management' looks the same so I will remove this columns and leave 'management_group' \n",
    "# and join small columns to 'other' \n",
    "df.management_group = df.management_group.apply(lambda x: 'other' if x != 'user-group' else x)"
   ]
  },
  {
   "cell_type": "code",
   "execution_count": 18,
   "metadata": {
    "collapsed": true
   },
   "outputs": [],
   "source": [
    "# need to check shares in groups but nice and remove it\n",
    "# distribution in classes looks the same and this is not informative, will remove it\n",
    "df.drop(['management', 'management_group'], 1, inplace=True)"
   ]
  },
  {
   "cell_type": "code",
   "execution_count": 19,
   "metadata": {
    "collapsed": true
   },
   "outputs": [],
   "source": [
    "# join pay to 1 group and others to another\n",
    "unpayable_types = ['never pay', 'other']\n",
    "df.payment = df.payment.apply(lambda x: 0 if x in unpayable_types else 1)"
   ]
  },
  {
   "cell_type": "code",
   "execution_count": 20,
   "metadata": {
    "collapsed": true
   },
   "outputs": [],
   "source": [
    "df.drop('payment_type', 1, inplace=True)\n",
    "# beckause payment shows the same info\n",
    "\n",
    "# quality_group looks very close to water_quality, so I will remove one\n",
    "df.drop(['water_quality'], 1, inplace=True)\n",
    "\n",
    "# quantity_group and quantity have the same info, so I will remove second one and join 'other' with 'dry' \n",
    "# beckause it small group\n",
    "df.drop(['quantity_group'], 1, inplace=True)\n",
    "\n",
    "#df.quantity = \n",
    "df.quantity.replace({'dry': 'other'}, inplace=True)\n",
    "\n",
    "# I will drop source_class and source_type becuase source is more detailed\n",
    "df.drop(['source_class', 'source_type'], 1, inplace=True)\n",
    "\n",
    "# waterpoint_type_group and waterpoint_type looks the same but  waterpoint_type more detailed\n",
    "df.drop('waterpoint_type_group', 1, inplace=True)\n",
    "\n",
    "# I will join 2 small classes with close distribution\n",
    "df.waterpoint_type.replace({'cattle trough':'improved spring'}, inplace=True)"
   ]
  },
  {
   "cell_type": "code",
   "execution_count": 21,
   "metadata": {
    "collapsed": true
   },
   "outputs": [
    {
     "data": {
      "image/png": "[encoded data removed]",
      "text/plain": [
       "<matplotlib.figure.Figure at 0x10cc1c6a0>"
      ]
     },
     "metadata": {},
     "output_type": "display_data"
    }
   ],
   "source": [
    "df.construction_year.fillna(0, inplace=True)\n",
    "df.construction_year = df.construction_year.astype(int)\n",
    "\n",
    "# I will use create column as lifetime value from date_recorded and construction_year\n",
    "df.construction_year.value_counts().sort_index().plot.bar(figsize=(17,6))\n",
    "plt.show()"
   ]
  },
  {
   "cell_type": "code",
   "execution_count": 22,
   "metadata": {
    "collapsed": true
   },
   "outputs": [],
   "source": [
    "df.construction_year = df.construction_year.replace(0, np.NaN)"
   ]
  },
  {
   "cell_type": "code",
   "execution_count": 23,
   "metadata": {
    "collapsed": true
   },
   "outputs": [],
   "source": [
    "# add column that means that construction_year was filled with approximation\n",
    "df['approximated_construction_year'] = df['construction_year'].apply(lambda x: 1 if np.isnan(x) else 0)"
   ]
  },
  {
   "cell_type": "code",
   "execution_count": 24,
   "metadata": {
    "collapsed": true
   },
   "outputs": [],
   "source": [
    "replacements = df.groupby(['funder', 'installer'])['construction_year'].transform('mean').round(0)\n",
    "df['construction_year'] = df['construction_year'].fillna(replacements)\n",
    "\n",
    "replacements = df.groupby('installer')['construction_year'].transform('mean').round(0)\n",
    "df['construction_year'] = df['construction_year'].fillna(replacements)\n",
    "\n",
    "replacements = df.groupby('funder')['construction_year'].transform('mean').round(0)\n",
    "df['construction_year'] = df['construction_year'].fillna(replacements)\n",
    "\n",
    "df.construction_year.fillna(df.construction_year.mode()[0], inplace=True)"
   ]
  },
  {
   "cell_type": "code",
   "execution_count": 25,
   "metadata": {
    "collapsed": true
   },
   "outputs": [],
   "source": [
    "# before replacing subvillages I would like to add column that represent number of watermomps in subwillage\n",
    "wp_in_subvillages = df['subvillage'].value_counts().to_dict()\n",
    "\n",
    "df['wp_in_subvillage'] = df['subvillage'].replace(wp_in_subvillages)"
   ]
  },
  {
   "cell_type": "code",
   "execution_count": 26,
   "metadata": {
    "collapsed": true
   },
   "outputs": [],
   "source": [
    "# try to fill rows with empty subwillage with grouped Nan \n",
    "# but i think better to remove it\n",
    "df['wp_in_subvillage'].fillna(df[df['wp_in_subvillage'].isnull()].shape[0], inplace=True)"
   ]
  },
  {
   "cell_type": "code",
   "execution_count": 28,
   "metadata": {
    "collapsed": true
   },
   "outputs": [],
   "source": [
    "# the same for lga and ward\n",
    "wp_in_lga = df['lga'].value_counts().to_dict()\n",
    "\n",
    "df['wp_in_lga'] = df['lga'].replace(wp_in_lga)"
   ]
  },
  {
   "cell_type": "code",
   "execution_count": 29,
   "metadata": {
    "collapsed": true
   },
   "outputs": [],
   "source": [
    "wp_in_ward = df['ward'].value_counts().to_dict()\n",
    "\n",
    "df['wp_in_ward'] = df['ward'].replace(wp_in_ward)"
   ]
  },
  {
   "cell_type": "code",
   "execution_count": 30,
   "metadata": {
    "collapsed": true
   },
   "outputs": [],
   "source": [
    "df.drop(['subvillage', 'lga', 'ward'],1, inplace=True)"
   ]
  },
  {
   "cell_type": "code",
   "execution_count": 31,
   "metadata": {
    "collapsed": true
   },
   "outputs": [],
   "source": [
    "df.to_csv('prepeared_features.csv')"
   ]
  },
  {
   "cell_type": "markdown",
   "metadata": {},
   "source": [
    "# modelling"
   ]
  },
  {
   "cell_type": "code",
   "execution_count": 7,
   "metadata": {},
   "outputs": [
    {
     "name": "stdout",
     "output_type": "stream",
     "text": [
      "SubmissionFormat.csv    \u001b[34mcatboost_info\u001b[m\u001b[m/          prepeared_features.csv\r\n"
     ]
    }
   ],
   "source": [
    "ls"
   ]
  },
  {
   "cell_type": "code",
   "execution_count": 4,
   "metadata": {},
   "outputs": [
    {
     "name": "stderr",
     "output_type": "stream",
     "text": [
      "/Users/danylopoliakov/.local/share/virtualenvs/Tanzania_waterpomps-ojV3XnUo/lib/python3.6/site-packages/IPython/core/interactiveshell.py:3058: DtypeWarning: Columns (5) have mixed types. Specify dtype option on import or set low_memory=False.\n",
      "  interactivity=interactivity, compiler=compiler, result=result)\n"
     ]
    }
   ],
   "source": [
    "df = pd.read_csv('prepeared_features.csv')"
   ]
  },
  {
   "cell_type": "code",
   "execution_count": 5,
   "metadata": {},
   "outputs": [],
   "source": [
    "from sklearn.linear_model import LogisticRegression\n",
    "from sklearn.model_selection import train_test_split\n",
    "from sklearn.metrics import accuracy_score\n",
    "\n",
    "from sklearn.ensemble import RandomForestClassifier\n",
    "from sklearn.preprocessing import RobustScaler\n",
    "from sklearn.model_selection import cross_val_score\n",
    "from sklearn.model_selection import KFold"
   ]
  },
  {
   "cell_type": "code",
   "execution_count": 6,
   "metadata": {},
   "outputs": [],
   "source": [
    "numerical = ['amount_tsh', 'gps_height', 'population', 'wp_in_subvillage',\n",
    "             'wp_in_lga', 'wp_in_ward', 'lifetimes']\n",
    "binar = ['payment', 'missed_population', 'approximated_amount_tsh', 'wrong_gps_height', 'approximated_construction_year']\n",
    "categorial = ['funder', 'installer', 'basin', 'region_code', 'public_meeting', 'scheme_management', 'permit',\n",
    "              'extraction_type', 'quality_group', 'quantity', 'source', 'waterpoint_type']"
   ]
  },
  {
   "cell_type": "code",
   "execution_count": 7,
   "metadata": {},
   "outputs": [],
   "source": [
    "target = df['status_group'].replace(['functional', 'non functional', 'functional needs repair'], [2, 0, 1])"
   ]
  },
  {
   "cell_type": "code",
   "execution_count": 8,
   "metadata": {},
   "outputs": [
    {
     "data": {
      "text/plain": [
       "(59400, 384)"
      ]
     },
     "execution_count": 8,
     "metadata": {},
     "output_type": "execute_result"
    }
   ],
   "source": [
    "train_dum = pd.get_dummies(df[categorial], dummy_na=False, prefix = categorial)\n",
    "train_dum.shape"
   ]
  },
  {
   "cell_type": "code",
   "execution_count": 31,
   "metadata": {
    "collapsed": true
   },
   "outputs": [],
   "source": [
    "df_preproc = pd.concat([train_dum, df[numerical+binar]], 1)"
   ]
  },
  {
   "cell_type": "code",
   "execution_count": 33,
   "metadata": {
    "collapsed": true
   },
   "outputs": [],
   "source": [
    "X_train, X_test, y_train, y_test = train_test_split(df_preproc, target, test_size=0.33, random_state=42)"
   ]
  },
  {
   "cell_type": "markdown",
   "metadata": {},
   "source": [
    "# make predictions"
   ]
  },
  {
   "cell_type": "code",
   "execution_count": 9,
   "metadata": {},
   "outputs": [],
   "source": [
    "rfc = RandomForestClassifier(bootstrap=True, class_weight=None, criterion='gini',\n",
    "                       max_depth=25, max_features='auto', max_leaf_nodes=None,\n",
    "                       min_impurity_decrease=0.0, min_impurity_split=None,\n",
    "                       min_samples_leaf=1, min_samples_split=9,\n",
    "                       min_weight_fraction_leaf=0.0, n_estimators=402,\n",
    "                       n_jobs=None, oob_score=False, random_state=None,\n",
    "                       verbose=0, warm_start=False)"
   ]
  },
  {
   "cell_type": "code",
   "execution_count": 35,
   "metadata": {},
   "outputs": [
    {
     "data": {
      "text/plain": [
       "RandomForestClassifier(bootstrap=True, class_weight=None, criterion='gini',\n",
       "                       max_depth=25, max_features='auto', max_leaf_nodes=None,\n",
       "                       min_impurity_decrease=0.0, min_impurity_split=None,\n",
       "                       min_samples_leaf=1, min_samples_split=9,\n",
       "                       min_weight_fraction_leaf=0.0, n_estimators=402,\n",
       "                       n_jobs=None, oob_score=False, random_state=None,\n",
       "                       verbose=0, warm_start=False)"
      ]
     },
     "execution_count": 35,
     "metadata": {},
     "output_type": "execute_result"
    }
   ],
   "source": [
    "rfc.fit(X_train, y_train)"
   ]
  },
  {
   "cell_type": "code",
   "execution_count": 36,
   "metadata": {},
   "outputs": [
    {
     "data": {
      "text/plain": [
       "0.7960922354861749"
      ]
     },
     "execution_count": 36,
     "metadata": {},
     "output_type": "execute_result"
    }
   ],
   "source": [
    "accuracy_score(y_test, rfc.predict(X_test), normalize=True)"
   ]
  },
  {
   "cell_type": "markdown",
   "metadata": {},
   "source": [
    "# robost"
   ]
  },
  {
   "cell_type": "code",
   "execution_count": 48,
   "metadata": {
    "collapsed": true
   },
   "outputs": [],
   "source": [
    "df_preproc_ww_numeric = df_preproc.copy()\n",
    "\n",
    "scaler = RobustScaler()\n",
    "nums_scaled = scaler.fit_transform(df_preproc_ww_numeric[numerical])\n",
    "nums_scaled = pd.DataFrame(nums_scaled, columns=numerical)\n",
    "df_preproc_ww_numeric[numerical] = nums_scaled"
   ]
  },
  {
   "cell_type": "code",
   "execution_count": 43,
   "metadata": {},
   "outputs": [
    {
     "data": {
      "text/plain": [
       "0.8004489337822671"
      ]
     },
     "execution_count": 43,
     "metadata": {},
     "output_type": "execute_result"
    }
   ],
   "source": [
    "X_train, X_test, y_train, y_test = train_test_split(df_preproc_ww_numeric, target, test_size=0.15, random_state=42, \n",
    "                                                   stratify = target)\n",
    "\n",
    "rfc.fit(X_train, y_train)\n",
    "accuracy_score(y_test, rfc.predict(X_test), normalize=True)"
   ]
  },
  {
   "cell_type": "markdown",
   "metadata": {},
   "source": [
    "# normalization"
   ]
  },
  {
   "cell_type": "code",
   "execution_count": 46,
   "metadata": {},
   "outputs": [
    {
     "data": {
      "text/plain": [
       "0.7984287317620651"
      ]
     },
     "execution_count": 46,
     "metadata": {},
     "output_type": "execute_result"
    }
   ],
   "source": [
    "df_preproc_ww_numeric = df_preproc.copy()\n",
    "from sklearn import preprocessing\n",
    "df_preproc_ww_numeric[numerical] = preprocessing.normalize(df_preproc_ww_numeric[numerical].values)\n",
    "\n",
    "X_train, X_test, y_train, y_test = train_test_split(df_preproc_ww_numeric, target, test_size=0.15, random_state=42, \n",
    "                                                   stratify = target)\n",
    "\n",
    "rfc.fit(X_train, y_train)\n",
    "accuracy_score(y_test, rfc.predict(X_test), normalize=True)"
   ]
  },
  {
   "cell_type": "markdown",
   "metadata": {},
   "source": [
    "# minMax"
   ]
  },
  {
   "cell_type": "code",
   "execution_count": 47,
   "metadata": {},
   "outputs": [
    {
     "data": {
      "text/plain": [
       "0.7998877665544332"
      ]
     },
     "execution_count": 47,
     "metadata": {},
     "output_type": "execute_result"
    }
   ],
   "source": [
    "from sklearn.preprocessing import MinMaxScaler\n",
    "df_preproc_ww_numeric = df_preproc.copy()\n",
    "scaler = MinMaxScaler()\n",
    "scaler.fit(df_preproc_ww_numeric[numerical].values)\n",
    "df_preproc_ww_numeric[numerical] = scaler.transform(df_preproc_ww_numeric[numerical].values)\n",
    "X_train, X_test, y_train, y_test = train_test_split(df_preproc_ww_numeric, target, test_size=0.15, random_state=42, \n",
    "                                                   stratify = target)\n",
    "\n",
    "rfc.fit(X_train, y_train)\n",
    "\n",
    "accuracy_score(y_test, rfc.predict(X_test), normalize=True)"
   ]
  },
  {
   "cell_type": "markdown",
   "metadata": {},
   "source": [
    "# log"
   ]
  },
  {
   "cell_type": "code",
   "execution_count": 42,
   "metadata": {},
   "outputs": [
    {
     "name": "stderr",
     "output_type": "stream",
     "text": [
      "/Users/danil/anaconda3/lib/python3.6/site-packages/ipykernel_launcher.py:2: RuntimeWarning: divide by zero encountered in log\n",
      "  \n"
     ]
    },
    {
     "data": {
      "text/plain": [
       "0.8003367003367003"
      ]
     },
     "execution_count": 42,
     "metadata": {},
     "output_type": "execute_result"
    }
   ],
   "source": [
    "df_preproc_ww_numeric = df_preproc.copy()\n",
    "df_preproc_ww_numeric[numerical] = np.log(df_preproc_ww_numeric[numerical].values)\n",
    "df_preproc_ww_numeric[numerical] = df_preproc_ww_numeric[numerical].replace([np.inf, -np.inf], 0)\n",
    "\n",
    "X_train, X_test, y_train, y_test = train_test_split(df_preproc_ww_numeric, target, test_size=0.15, random_state=42,\n",
    "                                                   stratify = target)\n",
    "rfc.fit(X_train, y_train)\n",
    "accuracy_score(y_test, rfc.predict(X_test), normalize=True)"
   ]
  },
  {
   "cell_type": "markdown",
   "metadata": {},
   "source": [
    "# ww categorical"
   ]
  },
  {
   "cell_type": "code",
   "execution_count": 8,
   "metadata": {},
   "outputs": [],
   "source": [
    "df_ww_cats = df.drop('status_group', 1).copy() \n",
    "\n",
    "scaler = RobustScaler()\n",
    "nums_scaled = scaler.fit_transform(df_ww_cats[numerical])\n",
    "nums_scaled = pd.DataFrame(nums_scaled, columns=numerical)\n",
    "df_ww_cats[numerical] = nums_scaled"
   ]
  },
  {
   "cell_type": "code",
   "execution_count": 11,
   "metadata": {},
   "outputs": [],
   "source": [
    "y_works = [1.0 if x == 2 else 0.0 for x in target]\n",
    "y_broken = [1.0 if x == 0 else 0.0 for x in target]\n",
    "y_repair = [1.0 if x == 1 else 0.0 for x in target]\n",
    "y_vectors = [y_works, y_broken, y_repair]\n",
    "X_TE_all = []\n",
    "\n",
    "df_ww_cats_target = df_ww_cats.copy()\n",
    "\n",
    "from category_encoders.target_encoder import TargetEncoder\n",
    "\n",
    "# We want to create encoding based on the training features and \n",
    "# labels, but apply this encoding to any vector (such as X_test)\n",
    "for i in [1,2,3]:\n",
    "     # Make an encoder\n",
    "    TE = TargetEncoder()\n",
    "     \n",
    "     # Fit it to the training data\n",
    "    TE.fit(X=df_ww_cats_target[categorial], y=y_vectors[i-1])\n",
    "     # Transform the cat columns in X\n",
    "    X_TE = TE.transform(df_ww_cats_target[categorial])\n",
    "     \n",
    "     # Give them custom names, so that the columns encoded against\n",
    "     # each target vector have a different name\n",
    "    X_TE = X_TE.rename(columns=(lambda x: x + '_TE' + str(i)))\n",
    "    X_TE_all.append(X_TE)\n",
    "new_cats = pd.concat(X_TE_all, sort=False, axis=1)\n",
    " \n",
    "train_TE = df_ww_cats_target.drop(columns=categorial)\n",
    "train_TE = pd.concat([train_TE, new_cats], sort=False, axis=1)"
   ]
  },
  {
   "cell_type": "code",
   "execution_count": 12,
   "metadata": {},
   "outputs": [],
   "source": [
    "X_train, X_test, y_train, y_test = train_test_split(train_TE, target, test_size=0.15, random_state=42, \n",
    "                                                   stratify = target)"
   ]
  },
  {
   "cell_type": "code",
   "execution_count": 9,
   "metadata": {},
   "outputs": [],
   "source": [
    "import warnings\n",
    "warnings.filterwarnings(\"ignore\")\n",
    "from sklearn.model_selection import cross_validate\n",
    "from sklearn.ensemble import ExtraTreesClassifier, VotingClassifier\n",
    "from catboost import CatBoostClassifier\n",
    "from lightgbm import LGBMClassifier\n",
    "from xgboost import XGBClassifier"
   ]
  },
  {
   "cell_type": "code",
   "execution_count": 14,
   "metadata": {},
   "outputs": [
    {
     "name": "stdout",
     "output_type": "stream",
     "text": [
      "LR: 0.723094 (0.003264), takes: 3.412751\n",
      "RF: 0.778114 (0.001367), takes: 0.990277\n",
      "et: 0.769103 (0.001268), takes: 0.467645\n",
      "XGBT: 0.750366 (0.002545), takes: 4.415774\n",
      "CatBST: 0.778352 (0.003693), takes: 101.409418\n",
      "LGBM: 0.779937 (0.003020), takes: 1.339921\n"
     ]
    }
   ],
   "source": [
    "models = []\n",
    "\n",
    "models.append(('LR', LogisticRegression(solver = 'lbfgs', multi_class='auto')))\n",
    "models.append(('RF', RandomForestClassifier(n_jobs=-1)))\n",
    "models.append(('et', ExtraTreesClassifier(n_jobs=-1)))\n",
    "#models.append(('nb', BernoulliNB()))\n",
    "models.append(('XGBT', XGBClassifier(silent=True, n_jobs = -1)))\n",
    "models.append(('CatBST', CatBoostClassifier(silent=True)))\n",
    "models.append(('LGBM', LGBMClassifier(silent=True)))\n",
    "\n",
    "\n",
    "\n",
    "#testing models\n",
    "\n",
    "accuracy_results = []\n",
    "time_to_fit = []\n",
    "names = []\n",
    "\n",
    "for name, model in models:\n",
    "    kfold = KFold(n_splits=5, random_state=42)\n",
    "    cv_results = cross_validate(model, X_train, y_train, cv=kfold, scoring='accuracy')\n",
    "    accuracy_results.append(cv_results['test_score'])\n",
    "    time_to_fit.append(cv_results['fit_time'])\n",
    "    names.append(name)\n",
    "    msg = '%s: %f (%f), takes: %f' % (name, cv_results['test_score'].mean(), \n",
    "                           cv_results['test_score'].std(), \n",
    "                           cv_results['fit_time'].mean())\n",
    "    print(msg)"
   ]
  },
  {
   "cell_type": "code",
   "execution_count": null,
   "metadata": {},
   "outputs": [],
   "source": []
  },
  {
   "cell_type": "markdown",
   "metadata": {
    "collapsed": true
   },
   "source": [
    "# lightGBM with cat features"
   ]
  },
  {
   "cell_type": "code",
   "execution_count": null,
   "metadata": {},
   "outputs": [],
   "source": []
  },
  {
   "cell_type": "code",
   "execution_count": 10,
   "metadata": {},
   "outputs": [],
   "source": [
    "#lgbm_c = LGBMClassifier(silent=True, categorical_feature = categorial)\n",
    "lgbm_c = LGBMClassifier(silent=True, categorical_feature = 1)\n",
    "\n",
    "df_cat_labeled = df_ww_cats.copy() \n",
    "from sklearn.preprocessing import LabelEncoder\n",
    "# instantiate labelencoder object\n",
    "le = LabelEncoder()"
   ]
  },
  {
   "cell_type": "code",
   "execution_count": 11,
   "metadata": {},
   "outputs": [],
   "source": [
    "df_cat_labeled[categorial] = df_cat_labeled[categorial].apply(lambda col: le.fit_transform(col.astype(str).fillna('nan')), \n",
    "                                                              axis = 0)"
   ]
  },
  {
   "cell_type": "code",
   "execution_count": null,
   "metadata": {},
   "outputs": [],
   "source": [
    "df_cat_labeled"
   ]
  },
  {
   "cell_type": "code",
   "execution_count": 29,
   "metadata": {},
   "outputs": [],
   "source": [
    "df_cat_labeled = pd.concat([df_cat_labeled[categorial], df_cat_labeled[numerical], df_cat_labeled[binar]], axis = 1)"
   ]
  },
  {
   "cell_type": "code",
   "execution_count": 30,
   "metadata": {},
   "outputs": [
    {
     "data": {
      "text/plain": [
       "12"
      ]
     },
     "execution_count": 30,
     "metadata": {},
     "output_type": "execute_result"
    }
   ],
   "source": [
    "len(categorial)-1"
   ]
  },
  {
   "cell_type": "code",
   "execution_count": 46,
   "metadata": {},
   "outputs": [
    {
     "data": {
      "text/plain": [
       "['funder',\n",
       " 'installer',\n",
       " 'basin',\n",
       " 'region_code',\n",
       " 'public_meeting',\n",
       " 'scheme_management',\n",
       " 'permit',\n",
       " 'extraction_type',\n",
       " 'quality_group',\n",
       " 'quantity',\n",
       " 'source',\n",
       " 'waterpoint_type']"
      ]
     },
     "execution_count": 46,
     "metadata": {},
     "output_type": "execute_result"
    }
   ],
   "source": [
    "categorial"
   ]
  },
  {
   "cell_type": "code",
   "execution_count": 50,
   "metadata": {},
   "outputs": [],
   "source": [
    "X_train, X_test, y_train, y_test = train_test_split(df_cat_labeled, target, test_size=0.15, random_state=42, \n",
    "                                                   stratify = target)"
   ]
  },
  {
   "cell_type": "code",
   "execution_count": 51,
   "metadata": {},
   "outputs": [],
   "source": [
    "lgbm_c = LGBMClassifier(silent=True, categorical_feature = list(range(len(categorial)-1)))"
   ]
  },
  {
   "cell_type": "code",
   "execution_count": 52,
   "metadata": {},
   "outputs": [
    {
     "data": {
      "text/plain": [
       "0.7879910213243546"
      ]
     },
     "execution_count": 52,
     "metadata": {},
     "output_type": "execute_result"
    }
   ],
   "source": [
    "lgbm_c.fit(X_train, y_train)\n",
    "accuracy_score(y_test, lgbm_c.predict(X_test), normalize=True)"
   ]
  },
  {
   "cell_type": "markdown",
   "metadata": {},
   "source": [
    "# catboost with categorical"
   ]
  },
  {
   "cell_type": "code",
   "execution_count": 53,
   "metadata": {},
   "outputs": [],
   "source": [
    "catboost_c = CatBoostClassifier(silent=True, cat_features = categorial)"
   ]
  },
  {
   "cell_type": "code",
   "execution_count": 54,
   "metadata": {},
   "outputs": [
    {
     "data": {
      "text/plain": [
       "Index(['amount_tsh', 'funder', 'gps_height', 'installer', 'basin',\n",
       "       'region_code', 'population', 'public_meeting', 'scheme_management',\n",
       "       'permit', 'extraction_type', 'payment', 'quality_group', 'quantity',\n",
       "       'source', 'waterpoint_type', 'status_group', 'missed_population',\n",
       "       'approximated_amount_tsh', 'wrong_gps_height', 'wp_in_subvillage',\n",
       "       'wp_in_lga', 'wp_in_ward', 'approximated_construction_year',\n",
       "       'lifetimes'],\n",
       "      dtype='object')"
      ]
     },
     "execution_count": 54,
     "metadata": {},
     "output_type": "execute_result"
    }
   ],
   "source": [
    "df.columns"
   ]
  },
  {
   "cell_type": "code",
   "execution_count": null,
   "metadata": {},
   "outputs": [],
   "source": []
  },
  {
   "cell_type": "code",
   "execution_count": 59,
   "metadata": {},
   "outputs": [],
   "source": [
    "X_train, X_test, y_train, y_test = train_test_split(df.fillna('nan').drop('status_group', 1), target, test_size=0.15, random_state=42, \n",
    "                                                   stratify = target)"
   ]
  },
  {
   "cell_type": "code",
   "execution_count": null,
   "metadata": {},
   "outputs": [],
   "source": [
    "catboost_c.fit(X_train, y_train)"
   ]
  },
  {
   "cell_type": "code",
   "execution_count": null,
   "metadata": {},
   "outputs": [],
   "source": [
    "accuracy_score(y_test, catboost_c.predict(X_test), normalize=True)"
   ]
  }
 ],
 "metadata": {
  "kernelspec": {
   "display_name": "Python 3",
   "language": "python",
   "name": "python3"
  },
  "language_info": {
   "codemirror_mode": {
    "name": "ipython",
    "version": 3
   },
   "file_extension": ".py",
   "mimetype": "text/x-python",
   "name": "python",
   "nbconvert_exporter": "python",
   "pygments_lexer": "ipython3",
   "version": "3.6.5"
  }
 },
 "nbformat": 4,
 "nbformat_minor": 2
}
