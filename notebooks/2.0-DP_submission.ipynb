{
 "cells": [
  {
   "cell_type": "markdown",
   "metadata": {},
   "source": [
    "# Predicting non-functional water pumps in Tanzania"
   ]
  },
  {
   "cell_type": "markdown",
   "metadata": {},
   "source": [
    "# import packages"
   ]
  },
  {
   "cell_type": "code",
   "execution_count": 1,
   "metadata": {},
   "outputs": [],
   "source": [
    "import warnings\n",
    "warnings.filterwarnings(\"ignore\")\n",
    "\n",
    "import pandas as pd\n",
    "import numpy as np\n",
    "import seaborn as sns\n",
    "\n",
    "# for modelling\n",
    "from sklearn.preprocessing import RobustScaler, LabelEncoder\n",
    "from lightgbm import LGBMClassifier"
   ]
  },
  {
   "cell_type": "markdown",
   "metadata": {},
   "source": [
    "# load data"
   ]
  },
  {
   "cell_type": "code",
   "execution_count": 4,
   "metadata": {},
   "outputs": [],
   "source": [
    "train = pd.read_csv('data/raw/train.csv')\n",
    "target = pd.read_csv('data/raw/target.csv')\n",
    "test = pd.read_csv('data/raw/test.csv')"
   ]
  },
  {
   "cell_type": "code",
   "execution_count": 5,
   "metadata": {},
   "outputs": [],
   "source": [
    "df_tt = pd.concat([test, train])"
   ]
  },
  {
   "cell_type": "code",
   "execution_count": 6,
   "metadata": {},
   "outputs": [],
   "source": [
    "df_tt[['amount_tsh', 'num_private', 'population' ,'construction_year']] = \\\n",
    "    df_tt[['amount_tsh', 'num_private', 'population' ,'construction_year']].replace(0, np.NaN)"
   ]
  },
  {
   "cell_type": "code",
   "execution_count": 7,
   "metadata": {},
   "outputs": [],
   "source": [
    "df_tt.drop(['wpt_name', 'recorded_by', 'longitude', 'latitude','scheme_name', 'num_private'], \n",
    "           1, inplace=True)"
   ]
  },
  {
   "cell_type": "code",
   "execution_count": 8,
   "metadata": {},
   "outputs": [],
   "source": [
    "df_tt[['region_code', 'district_code']]= df_tt[['region_code', 'district_code']].astype('object')\n",
    "df_tt[['date_recorded']]= df_tt[['date_recorded']].apply((pd.to_datetime))\n",
    "\n",
    "categorical = df_tt.select_dtypes(include = ['object']).columns.tolist()\n",
    "numerical = df_tt.select_dtypes(include = ['int', 'float']).columns.tolist()"
   ]
  },
  {
   "cell_type": "code",
   "execution_count": 37,
   "metadata": {},
   "outputs": [],
   "source": [
    "# df = pd.merge(train, target, how = 'inner', on = 'id')"
   ]
  },
  {
   "cell_type": "markdown",
   "metadata": {},
   "source": [
    "now 'id' no need to be keept"
   ]
  },
  {
   "cell_type": "code",
   "execution_count": 9,
   "metadata": {},
   "outputs": [],
   "source": [
    "df_tt['missed_population'] = np.where(np.isnan(df_tt['population']), 1, 0)\n",
    "df_tt['population'].fillna(0, inplace = True)"
   ]
  },
  {
   "cell_type": "code",
   "execution_count": 10,
   "metadata": {},
   "outputs": [],
   "source": [
    "df_tt['approximated_amount_tsh'] = np.where(np.isnan(df_tt['amount_tsh']), 1, 0) \n",
    "replacements = df_tt.groupby('water_quality').amount_tsh.agg(pd.Series.mode).to_dict()\n",
    "\n",
    "# all vlaues amount_tsh in this category is Nan\n",
    "replacements.pop('fluoride abandoned')\n",
    "\n",
    "df_tt.loc[df_tt['water_quality'] != 'soft', 'amount_tsh'] = \\\n",
    "    df_tt.loc[df_tt['water_quality'] != 'soft', 'amount_tsh'].fillna(replacements)\n",
    "\n",
    "df_tt['amount_tsh'].fillna(0, inplace=True)"
   ]
  },
  {
   "cell_type": "code",
   "execution_count": 11,
   "metadata": {},
   "outputs": [],
   "source": [
    "df_tt['wrong_gps_height'] = np.where(df_tt['gps_height'] < 0, 1, 0) "
   ]
  },
  {
   "cell_type": "code",
   "execution_count": 12,
   "metadata": {},
   "outputs": [],
   "source": [
    "df_tt['gps_height'] = abs(df_tt['gps_height'])"
   ]
  },
  {
   "cell_type": "code",
   "execution_count": 21,
   "metadata": {},
   "outputs": [
    {
     "name": "stdout",
     "output_type": "stream",
     "text": [
      "funder 2141\n",
      "installer 2411\n",
      "basin 9\n",
      "subvillage 21426\n",
      "region 21\n",
      "region_code 27\n",
      "district_code 20\n",
      "lga 125\n",
      "ward 2098\n",
      "public_meeting 3\n",
      "scheme_management 13\n",
      "permit 3\n",
      "extraction_type 18\n",
      "extraction_type_group 13\n",
      "extraction_type_class 7\n",
      "management 12\n",
      "management_group 5\n",
      "payment 7\n",
      "payment_type 7\n",
      "water_quality 8\n",
      "quality_group 6\n",
      "quantity 5\n",
      "quantity_group 5\n",
      "source 10\n",
      "source_type 7\n",
      "source_class 3\n",
      "waterpoint_type 7\n",
      "waterpoint_type_group 6\n",
      "-------------------- \n",
      "total num: 28423\n"
     ]
    }
   ],
   "source": [
    "categories = 0\n",
    "for col in categorical:\n",
    "    categories += len(df_tt[col].unique())\n",
    "    print(col, len(df_tt[col].unique()))\n",
    "print('-------------------- \\ntotal num:', categories)"
   ]
  },
  {
   "cell_type": "markdown",
   "metadata": {},
   "source": [
    "in test dataset we have new installers and funders"
   ]
  },
  {
   "cell_type": "code",
   "execution_count": 13,
   "metadata": {},
   "outputs": [],
   "source": [
    "df_tt[categorical] = df_tt[categorical].astype('str')\n",
    "df_tt[categorical] = df_tt[categorical].applymap(lambda x: x.lower())\n",
    "nan_list = ['not known','unknown','none','-','##','not kno','unknown installer', '0', 'dwe']\n",
    "df_tt = df_tt.replace(nan_list, np.nan)\n",
    "\n",
    "for feature in df_tt[categorical]:\n",
    "    # Determine which feature values to keep\n",
    "    remove = df_tt[feature].value_counts()[df_tt[feature].value_counts() < 50].index.tolist()\n",
    "    # Turn those into NANs (using a copy, to prevent warnings)\n",
    "    feature_copy = df_tt[feature].copy()\n",
    "    #feature_copy[~feature_copy.isin(to_keep)] = np.nan\n",
    "    feature_copy[feature_copy.isin(remove)] = np.nan\n",
    "    #print(feature_copy.isnull().sum())\n",
    "    df_tt[feature] = feature_copy\n",
    "# Fix all NANs\n",
    "df_tt[categorical] = df_tt[categorical].fillna('other')"
   ]
  },
  {
   "cell_type": "code",
   "execution_count": 14,
   "metadata": {},
   "outputs": [],
   "source": [
    "df_tt.drop(['region', 'district_code'], 1, inplace=True)\n",
    "df_tt['region_code'] = df_tt['region_code'].astype(str)"
   ]
  },
  {
   "cell_type": "code",
   "execution_count": 15,
   "metadata": {},
   "outputs": [],
   "source": [
    "df_tt.drop(['extraction_type_group', 'extraction_type_class'], 1, inplace=True)"
   ]
  },
  {
   "cell_type": "code",
   "execution_count": 16,
   "metadata": {},
   "outputs": [],
   "source": [
    "df_tt['management_group'] = np.where(df_tt['management_group'] == 'user-group', 1, 0)"
   ]
  },
  {
   "cell_type": "code",
   "execution_count": 17,
   "metadata": {},
   "outputs": [],
   "source": [
    "df_tt.drop('management', 1, inplace=True)"
   ]
  },
  {
   "cell_type": "code",
   "execution_count": 18,
   "metadata": {},
   "outputs": [],
   "source": [
    "unpayable_types = ['never pay', 'other']\n",
    "df_tt['payment'] = np.where(df_tt['payment'].isin(unpayable_types), 0, 1)"
   ]
  },
  {
   "cell_type": "code",
   "execution_count": 19,
   "metadata": {},
   "outputs": [],
   "source": [
    "df_tt.drop('payment_type', 1, inplace=True)"
   ]
  },
  {
   "cell_type": "code",
   "execution_count": 20,
   "metadata": {},
   "outputs": [],
   "source": [
    "df_tt.drop(['water_quality', 'quantity_group'], 1, inplace=True)\n",
    "df_tt.quantity.replace({'dry': 'other'}, inplace=True)"
   ]
  },
  {
   "cell_type": "code",
   "execution_count": 21,
   "metadata": {},
   "outputs": [],
   "source": [
    "df_tt.drop(['source_class', 'source_type'], 1, inplace=True)"
   ]
  },
  {
   "cell_type": "code",
   "execution_count": 22,
   "metadata": {},
   "outputs": [],
   "source": [
    "df_tt.drop('waterpoint_type_group', 1, inplace=True)"
   ]
  },
  {
   "cell_type": "code",
   "execution_count": 23,
   "metadata": {},
   "outputs": [],
   "source": [
    "df_tt['waterpoint_type'].replace({'cattle trough':'improved spring'}, inplace=True)"
   ]
  },
  {
   "cell_type": "code",
   "execution_count": 24,
   "metadata": {},
   "outputs": [
    {
     "name": "stdout",
     "output_type": "stream",
     "text": [
      "number of nans: 25969\n"
     ]
    }
   ],
   "source": [
    "print('number of nans:', df_tt['construction_year'].isnull().sum())"
   ]
  },
  {
   "cell_type": "code",
   "execution_count": 25,
   "metadata": {},
   "outputs": [],
   "source": [
    "df_tt['construction_year'] = df_tt['construction_year'].fillna(0).astype(int)\n",
    "\n",
    "coonst_y = list(df_tt['construction_year'].unique())\n",
    "coonst_y.sort()"
   ]
  },
  {
   "cell_type": "code",
   "execution_count": 38,
   "metadata": {},
   "outputs": [
    {
     "data": {
      "image/png": "[encoded data removed]",
      "text/plain": [
       "<matplotlib.figure.Figure at 0x125bb1908>"
      ]
     },
     "metadata": {},
     "output_type": "display_data"
    }
   ],
   "source": [
    "with sns.axes_style('white'):\n",
    "    g = sns.factorplot(\"construction_year\", data=df_tt, aspect=2,\n",
    "                       kind=\"count\", color='steelblue', order = coonst_y)\n",
    "    g.set_xticklabels(step=5)"
   ]
  },
  {
   "cell_type": "code",
   "execution_count": 26,
   "metadata": {},
   "outputs": [],
   "source": [
    "df_tt['approximated_construction_year'] = np.where(df_tt['construction_year'] == 0, 1, 0)\n",
    "\n",
    "df_tt['construction_year'] = df_tt['construction_year'].replace(0, np.NaN)"
   ]
  },
  {
   "cell_type": "code",
   "execution_count": 27,
   "metadata": {},
   "outputs": [],
   "source": [
    "replacements = df_tt.groupby(['funder', 'installer'])['construction_year'].transform('mean').round(0)\n",
    "df_tt['construction_year'] = df_tt['construction_year'].fillna(replacements)"
   ]
  },
  {
   "cell_type": "code",
   "execution_count": 28,
   "metadata": {},
   "outputs": [],
   "source": [
    "replacements = df_tt.groupby('installer')['construction_year'].transform('mean').round(0)\n",
    "df_tt['construction_year'] = df_tt['construction_year'].fillna(replacements)"
   ]
  },
  {
   "cell_type": "code",
   "execution_count": 29,
   "metadata": {},
   "outputs": [],
   "source": [
    "replacements = df_tt.groupby('funder')['construction_year'].transform('mean').round(0)\n",
    "df_tt['construction_year'] = df_tt['construction_year'].fillna(replacements)"
   ]
  },
  {
   "cell_type": "code",
   "execution_count": 30,
   "metadata": {},
   "outputs": [],
   "source": [
    "df_tt.construction_year.fillna(df_tt.construction_year.mode()[0], inplace=True)"
   ]
  },
  {
   "cell_type": "code",
   "execution_count": 44,
   "metadata": {},
   "outputs": [
    {
     "data": {
      "image/png": "[encoded data removed]",
      "text/plain": [
       "<matplotlib.figure.Figure at 0x125b29208>"
      ]
     },
     "metadata": {},
     "output_type": "display_data"
    }
   ],
   "source": [
    "with sns.axes_style('white'):\n",
    "    g = sns.factorplot(\"construction_year\", data=df_tt, aspect=2,\n",
    "                       kind=\"count\", color='steelblue', order = coonst_y)\n",
    "    g.set_xticklabels(step=5)"
   ]
  },
  {
   "cell_type": "code",
   "execution_count": 31,
   "metadata": {},
   "outputs": [],
   "source": [
    "df_tt['lifetimes'] = df_tt['date_recorded'].dt.year - df_tt['construction_year']\n",
    "df_tt['lifetimes'] = np.where(df_tt['lifetimes'] < 0, 0, df_tt['lifetimes'] )\n",
    "\n",
    "df_tt.drop(['date_recorded', 'construction_year'], 1, inplace=True)"
   ]
  },
  {
   "cell_type": "code",
   "execution_count": 32,
   "metadata": {},
   "outputs": [],
   "source": [
    "wp_in_lga = df_tt['lga'].value_counts().to_dict()\n",
    "df_tt['wp_in_lga'] = df_tt['lga'].replace(wp_in_lga)\n",
    "\n",
    "wp_in_ward = df_tt['ward'].value_counts().to_dict()\n",
    "df_tt['wp_in_ward'] = df_tt['ward'].replace(wp_in_ward)\n",
    "\n",
    "df_tt.drop(['subvillage', 'lga', 'ward'],1, inplace=True)"
   ]
  },
  {
   "cell_type": "code",
   "execution_count": 33,
   "metadata": {},
   "outputs": [],
   "source": [
    "df_tt.to_csv('data/processed/prepeared_features_trian_test.csv', index=False)"
   ]
  },
  {
   "cell_type": "markdown",
   "metadata": {},
   "source": [
    "# modelling"
   ]
  },
  {
   "cell_type": "code",
   "execution_count": 34,
   "metadata": {},
   "outputs": [],
   "source": [
    "numerical = ['amount_tsh', 'gps_height', 'population', 'wp_in_lga', 'wp_in_ward', 'lifetimes']\n",
    "binar = ['payment', 'missed_population', 'approximated_amount_tsh', 'wrong_gps_height', \n",
    "         'approximated_construction_year', 'management_group']\n",
    "categorial = ['funder', 'installer', 'basin', 'region_code', 'public_meeting', \n",
    "              'scheme_management', 'permit', 'extraction_type', 'quality_group', \n",
    "              'quantity', 'source', 'waterpoint_type']\n",
    "# without 'funder', 'installer' beckause they have too much values\n",
    "categorial_short = ['basin', 'region_code', 'public_meeting', 'scheme_management',  \n",
    "                    'permit', 'extraction_type', 'quality_group', 'quantity', 'source', \n",
    "                    'waterpoint_type']"
   ]
  },
  {
   "cell_type": "code",
   "execution_count": 51,
   "metadata": {},
   "outputs": [],
   "source": [
    "df_train = pd.merge(df_tt, train['id'], on = 'id')"
   ]
  },
  {
   "cell_type": "code",
   "execution_count": 40,
   "metadata": {},
   "outputs": [],
   "source": [
    "df_train_w_target = pd.merge(df_train, target, on = 'id')"
   ]
  },
  {
   "cell_type": "code",
   "execution_count": 42,
   "metadata": {},
   "outputs": [],
   "source": [
    "df_train_w_target.drop('id', 1, inplace=True)"
   ]
  },
  {
   "cell_type": "code",
   "execution_count": 43,
   "metadata": {},
   "outputs": [],
   "source": [
    "target = df_train_w_target['status_group'].replace(['functional', 'non functional', 'functional needs repair'], \n",
    "                                    [2, 0, 1])"
   ]
  },
  {
   "cell_type": "code",
   "execution_count": 46,
   "metadata": {},
   "outputs": [
    {
     "data": {
      "text/plain": [
       "(59400, 94)"
      ]
     },
     "execution_count": 46,
     "metadata": {},
     "output_type": "execute_result"
    }
   ],
   "source": [
    "train_dum = pd.get_dummies(df_train_w_target[categorial_short], dummy_na=False, prefix = categorial_short)\n",
    "train_dum.shape"
   ]
  },
  {
   "cell_type": "code",
   "execution_count": 48,
   "metadata": {},
   "outputs": [],
   "source": [
    "df_preproc = pd.concat([train_dum, df_trai_target[numerical + binar]], 1)\n",
    "X_train, X_test, y_train, y_test = train_test_split(df_preproc, target, test_size=0.2, \n",
    "                                                    random_state=42, stratify = target)"
   ]
  },
  {
   "cell_type": "code",
   "execution_count": 44,
   "metadata": {},
   "outputs": [],
   "source": [
    "from sklearn.ensemble import ExtraTreesClassifier, VotingClassifier, RandomForestClassifier\n",
    "from catboost import CatBoostClassifier\n",
    "from lightgbm import LGBMClassifier\n",
    "from xgboost import XGBClassifier\n",
    "from sklearn.linear_model import LogisticRegression\n",
    "from sklearn.metrics import accuracy_score, classification_report, confusion_matrix\n",
    "from sklearn.preprocessing import RobustScaler, LabelEncoder\n",
    "from category_encoders.target_encoder import TargetEncoder\n",
    "from sklearn.model_selection import cross_val_score, cross_validate, KFold, train_test_split, \\\n",
    "                RandomizedSearchCV"
   ]
  },
  {
   "cell_type": "code",
   "execution_count": 49,
   "metadata": {},
   "outputs": [
    {
     "name": "stdout",
     "output_type": "stream",
     "text": [
      "LR: 0.563510 (0.006429), takes: 1.960802\n",
      "RF: 0.779398 (0.001655), takes: 0.614849\n",
      "ET: 0.770665 (0.002588), takes: 0.710963\n",
      "XGBT: 0.744697 (0.003023), takes: 5.570478\n",
      "LGBM: 0.778178 (0.003002), takes: 1.263677\n",
      "CatBST: 0.775926 (0.003908), takes: 92.256293\n"
     ]
    }
   ],
   "source": [
    "models = []\n",
    "\n",
    "models.append(('LR', LogisticRegression(solver = 'lbfgs', multi_class='auto')))\n",
    "models.append(('RF', RandomForestClassifier(n_jobs=-1)))\n",
    "models.append(('ET', ExtraTreesClassifier(n_jobs=-1)))\n",
    "models.append(('XGBT', XGBClassifier(silent=True, n_jobs = -1)))\n",
    "models.append(('LGBM', LGBMClassifier(silent=True)))\n",
    "models.append(('CatBST', CatBoostClassifier(silent=True)))\n",
    "\n",
    "\n",
    "accuracy_results = []\n",
    "time_to_fit = []\n",
    "names = []\n",
    "\n",
    "for name, model in models:\n",
    "    kfold = KFold(n_splits=7, random_state=42)\n",
    "    cv_results = cross_validate(model, X_train, y_train, cv=kfold, scoring='accuracy')\n",
    "    accuracy_results.append(cv_results['test_score'])\n",
    "    time_to_fit.append(cv_results['fit_time'])\n",
    "    names.append(name)\n",
    "    msg = '%s: %f (%f), takes: %f' % (name, cv_results['test_score'].mean(), \n",
    "                           cv_results['test_score'].std(), \n",
    "                           cv_results['fit_time'].mean())\n",
    "    print(msg)"
   ]
  },
  {
   "cell_type": "markdown",
   "metadata": {},
   "source": [
    "training on train dataset with taking into account test dataset shows a little bit better results"
   ]
  },
  {
   "cell_type": "markdown",
   "metadata": {},
   "source": [
    "# preprocess features for train and test dataset"
   ]
  },
  {
   "cell_type": "code",
   "execution_count": 70,
   "metadata": {},
   "outputs": [],
   "source": [
    "df_preproc_numeric = df_tt.copy()\n",
    "\n",
    "scaler = RobustScaler()\n",
    "nums_scaled = scaler.fit_transform(df_preproc_numeric[numerical])\n",
    "nums_scaled = pd.DataFrame(nums_scaled, columns=numerical)\n",
    "df_preproc_numeric[numerical] = nums_scaled"
   ]
  },
  {
   "cell_type": "code",
   "execution_count": 71,
   "metadata": {},
   "outputs": [],
   "source": [
    "df_cat_labeled = df_preproc_numeric.copy() \n",
    "le = LabelEncoder()\n",
    "df_cat_labeled[categorial] = df_cat_labeled[categorial].apply(lambda col: \n",
    "                                                              le.fit_transform(col.astype(str).fillna('nan')), \n",
    "                                                              axis = 0)"
   ]
  },
  {
   "cell_type": "code",
   "execution_count": 76,
   "metadata": {},
   "outputs": [],
   "source": [
    "df_cat_labeled_full = pd.concat([df_cat_labeled[categorial], \n",
    "                                 df_cat_labeled[numerical], \n",
    "                                 df_cat_labeled[binar],\n",
    "                                 df_cat_labeled['id']], \n",
    "                                 axis = 1)"
   ]
  },
  {
   "cell_type": "code",
   "execution_count": 77,
   "metadata": {},
   "outputs": [],
   "source": [
    "X_train = pd.merge(df_cat_labeled_full, train['id'], on = 'id')"
   ]
  },
  {
   "cell_type": "code",
   "execution_count": 79,
   "metadata": {},
   "outputs": [],
   "source": [
    "X_train.drop('id', 1, inplace = True)"
   ]
  },
  {
   "cell_type": "markdown",
   "metadata": {},
   "source": [
    "retrain model on full train dataset"
   ]
  },
  {
   "cell_type": "code",
   "execution_count": 81,
   "metadata": {},
   "outputs": [
    {
     "name": "stdout",
     "output_type": "stream",
     "text": [
      "Fitting 7 folds for each of 100 candidates, totalling 700 fits\n"
     ]
    },
    {
     "name": "stderr",
     "output_type": "stream",
     "text": [
      "[Parallel(n_jobs=-1)]: Using backend LokyBackend with 8 concurrent workers.\n",
      "[Parallel(n_jobs=-1)]: Done   2 tasks      | elapsed:   27.0s\n",
      "[Parallel(n_jobs=-1)]: Done  56 tasks      | elapsed:  3.9min\n",
      "[Parallel(n_jobs=-1)]: Done 146 tasks      | elapsed:  9.3min\n",
      "[Parallel(n_jobs=-1)]: Done 272 tasks      | elapsed: 13.5min\n",
      "[Parallel(n_jobs=-1)]: Done 434 tasks      | elapsed: 21.7min\n",
      "[Parallel(n_jobs=-1)]: Done 632 tasks      | elapsed: 28.6min\n",
      "[Parallel(n_jobs=-1)]: Done 700 out of 700 | elapsed: 31.2min finished\n"
     ]
    },
    {
     "data": {
      "text/plain": [
       "LGBMClassifier(bagging_fraction=0.9, boosting_type='gbdt',\n",
       "               categorical_feature=[0, 1, 2, 3, 4, 5, 6, 7, 8, 9, 10],\n",
       "               class_weight=None, colsample_bytree=1.0, feature_fraction=0.8,\n",
       "               importance_type='split', learning_rate=0.1, max_depth=25,\n",
       "               min_child_samples=20, min_child_weight=0.001, min_split_gain=0.0,\n",
       "               n_estimators=100, n_jobs=-1, num_leaves=100, objective=None,\n",
       "               random_state=None, reg_alpha=0.0, reg_lambda=0.0, silent=True,\n",
       "               subsample=1.0, subsample_for_bin=200000, subsample_freq=0)"
      ]
     },
     "execution_count": 81,
     "metadata": {},
     "output_type": "execute_result"
    }
   ],
   "source": [
    "param_dist = {\"max_depth\": [10, 25, 50, 75],\n",
    "              \"learning_rate\" : [0.01, 0.05, 0.1],\n",
    "              \"num_leaves\": [50, 100, 300, 900, 1200],\n",
    "              \"n_estimators\": [50, 100, 200],\n",
    "              'feature_fraction' : [0.5, 0.8, 1],\n",
    "              'bagging_fraction' : [0.8, 0.9, 1]\n",
    "             }\n",
    "lgbm_c = LGBMClassifier(silent=True, categorical_feature = list(range(len(categorial) - 1)))\n",
    "lg_gs = RandomizedSearchCV(lgbm_c, \n",
    "                           n_jobs=-1, \n",
    "                           n_iter=100,\n",
    "                           param_distributions=param_dist, \n",
    "                           cv = 7, \n",
    "                           scoring=\"accuracy\", \n",
    "                           verbose=5)\n",
    "\n",
    "lg_gs.fit(X_train, target)\n",
    "lg_gs.best_estimator_"
   ]
  },
  {
   "cell_type": "code",
   "execution_count": 82,
   "metadata": {},
   "outputs": [
    {
     "data": {
      "text/plain": [
       "0.783956228956229"
      ]
     },
     "execution_count": 82,
     "metadata": {},
     "output_type": "execute_result"
    }
   ],
   "source": [
    "lg_gs.best_score_"
   ]
  },
  {
   "cell_type": "markdown",
   "metadata": {},
   "source": [
    "make predictions"
   ]
  },
  {
   "cell_type": "code",
   "execution_count": 88,
   "metadata": {},
   "outputs": [],
   "source": [
    "X_test = pd.merge(df_cat_labeled_full, test['id'], on = 'id')\n",
    "predictions = lg_gs.predict(X_test.drop('id', 1))\n",
    "\n",
    "submit_df = pd.DataFrame(X_test['id'])\n",
    "submit_df['status_group'] = predictions"
   ]
  },
  {
   "cell_type": "code",
   "execution_count": 90,
   "metadata": {},
   "outputs": [],
   "source": [
    "submit_df['status_group'] = submit_df['status_group'].replace([2, 0, 1],\n",
    "                                     ['functional', 'non functional', 'functional needs repair'])\n",
    "submit_df.to_csv('data/submissions/submit_1.csv', index = False)"
   ]
  },
  {
   "cell_type": "code",
   "execution_count": null,
   "metadata": {},
   "outputs": [],
   "source": []
  }
 ],
 "metadata": {
  "kernelspec": {
   "display_name": "Python 3",
   "language": "python",
   "name": "python3"
  },
  "language_info": {
   "codemirror_mode": {
    "name": "ipython",
    "version": 3
   },
   "file_extension": ".py",
   "mimetype": "text/x-python",
   "name": "python",
   "nbconvert_exporter": "python",
   "pygments_lexer": "ipython3",
   "version": "3.6.5"
  }
 },
 "nbformat": 4,
 "nbformat_minor": 2
}
